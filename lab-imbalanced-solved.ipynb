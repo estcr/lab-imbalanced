{
 "cells": [
  {
   "cell_type": "code",
   "execution_count": 1,
   "metadata": {},
   "outputs": [],
   "source": [
    "# Importaciones necesarias\n",
    "import pandas as pd\n",
    "import numpy as np\n",
    "from sklearn.model_selection import train_test_split\n",
    "from sklearn.linear_model import LogisticRegression\n",
    "from sklearn.metrics import classification_report, confusion_matrix, precision_score, recall_score, f1_score\n",
    "from sklearn.utils import resample\n",
    "import matplotlib.pyplot as plt\n",
    "import seaborn as sns\n",
    "\n",
    "# Cargar los datos\n",
    "fraud = pd.read_csv(\"https://raw.githubusercontent.com/data-bootcamp-v4/data/main/card_transdata.csv\")"
   ]
  },
  {
   "cell_type": "markdown",
   "metadata": {},
   "source": [
    "1. What is the distribution of our target variable? Can we say we're dealing with an imbalanced dataset?"
   ]
  },
  {
   "cell_type": "code",
   "execution_count": 2,
   "metadata": {},
   "outputs": [
    {
     "name": "stdout",
     "output_type": "stream",
     "text": [
      "Distribución porcentual:\n",
      "fraud\n",
      "0.0    91.2597\n",
      "1.0     8.7403\n",
      "Name: proportion, dtype: float64\n"
     ]
    },
    {
     "data": {
      "image/png": "[encoded data removed]",
      "text/plain": [
       "<Figure size 800x600 with 1 Axes>"
      ]
     },
     "metadata": {},
     "output_type": "display_data"
    }
   ],
   "source": [
    "# Visualización de la distribución\n",
    "plt.figure(figsize=(8, 6))\n",
    "fraud['fraud'].value_counts().plot(kind='bar')\n",
    "plt.title('Distribución de Transacciones Fraudulentas vs Legítimas')\n",
    "plt.xlabel('Clase (0=Legítima, 1=Fraudulenta)')\n",
    "plt.ylabel('Cantidad')\n",
    "\n",
    "# Mostrar porcentajes\n",
    "print(\"Distribución porcentual:\")\n",
    "print(fraud['fraud'].value_counts(normalize=True) * 100)"
   ]
  },
  {
   "cell_type": "markdown",
   "metadata": {},
   "source": [
    "2. Train a LogisticRegression."
   ]
  },
  {
   "cell_type": "code",
   "execution_count": 3,
   "metadata": {},
   "outputs": [
    {
     "name": "stderr",
     "output_type": "stream",
     "text": [
      "c:\\Users\\est_c\\anaconda3\\Lib\\site-packages\\sklearn\\linear_model\\_logistic.py:469: ConvergenceWarning: lbfgs failed to converge (status=1):\n",
      "STOP: TOTAL NO. of ITERATIONS REACHED LIMIT.\n",
      "\n",
      "Increase the number of iterations (max_iter) or scale the data as shown in:\n",
      "    https://scikit-learn.org/stable/modules/preprocessing.html\n",
      "Please also refer to the documentation for alternative solver options:\n",
      "    https://scikit-learn.org/stable/modules/linear_model.html#logistic-regression\n",
      "  n_iter_i = _check_optimize_result(\n"
     ]
    }
   ],
   "source": [
    "# Preparación de datos\n",
    "X = fraud.drop('fraud', axis=1)\n",
    "y = fraud['fraud']\n",
    "\n",
    "# División de datos\n",
    "X_train, X_test, y_train, y_test = train_test_split(X, y, test_size=0.2, random_state=42)\n",
    "\n",
    "# Entrenamiento del modelo\n",
    "model = LogisticRegression(random_state=42)\n",
    "model.fit(X_train, y_train)\n",
    "\n",
    "# Predicciones\n",
    "y_pred = model.predict(X_test)"
   ]
  },
  {
   "cell_type": "markdown",
   "metadata": {},
   "source": [
    "3. Evaluate your model. Take in consideration class importance, and evaluate it by selection the correct metric"
   ]
  },
  {
   "cell_type": "code",
   "execution_count": 4,
   "metadata": {},
   "outputs": [
    {
     "name": "stdout",
     "output_type": "stream",
     "text": [
      "Resultados del modelo base:\n",
      "\n",
      "Matriz de confusión:\n",
      "[[181275   1282]\n",
      " [  7184  10259]]\n",
      "\n",
      "Reporte de clasificación:\n",
      "              precision    recall  f1-score   support\n",
      "\n",
      "         0.0       0.96      0.99      0.98    182557\n",
      "         1.0       0.89      0.59      0.71     17443\n",
      "\n",
      "    accuracy                           0.96    200000\n",
      "   macro avg       0.93      0.79      0.84    200000\n",
      "weighted avg       0.96      0.96      0.95    200000\n",
      "\n"
     ]
    }
   ],
   "source": [
    "print(\"Resultados del modelo base:\")\n",
    "print(\"\\nMatriz de confusión:\")\n",
    "print(confusion_matrix(y_test, y_pred))\n",
    "print(\"\\nReporte de clasificación:\")\n",
    "print(classification_report(y_test, y_pred))"
   ]
  },
  {
   "cell_type": "markdown",
   "metadata": {},
   "source": [
    "4. Run Oversample in order to balance our target variable and repeat the steps above, now with balanced data. Does it improve the performance of our model?"
   ]
  },
  {
   "cell_type": "code",
   "execution_count": null,
   "metadata": {},
   "outputs": [],
   "source": [
    "# Separar las clases\n",
    "fraud_majority = fraud[fraud.fraud==0]\n",
    "fraud_minority = fraud[fraud.fraud==1]\n",
    "\n",
    "# Realizar oversampling de la clase minoritaria\n",
    "fraud_minority_upsampled = resample(fraud_minority,\n",
    "                                  replace=True,\n",
    "                                  n_samples=len(fraud_majority),\n",
    "                                  random_state=42)\n",
    "\n",
    "# Combinar las clases balanceadas\n",
    "fraud_upsampled = pd.concat([fraud_majority, fraud_minority_upsampled])\n",
    "\n",
    "# Preparar datos balanceados\n",
    "X_upsampled = fraud_upsampled.drop('fraud', axis=1)\n",
    "y_upsampled = fraud_upsampled.fraud\n",
    "\n",
    "# División de datos\n",
    "X_train_up, X_test_up, y_train_up, y_test_up = train_test_split(X_upsampled, y_upsampled, \n",
    "                                                                test_size=0.2, \n",
    "                                                                random_state=42)\n",
    "\n",
    "# Entrenamiento y evaluación\n",
    "model_up = LogisticRegression(random_state=42)\n",
    "model_up.fit(X_train_up, y_train_up)\n",
    "y_pred_up = model_up.predict(X_test)\n",
    "\n",
    "print(\"Resultados con Oversampling:\")\n",
    "print(\"\\nReporte de clasificación:\")\n",
    "print(classification_report(y_test, y_pred_up))"
   ]
  },
  {
   "cell_type": "markdown",
   "metadata": {},
   "source": [
    "5. Now, run Undersample in order to balance our target variable and repeat the steps above (1-3), now with balanced data. Does it improve the performance of our model?"
   ]
  },
  {
   "cell_type": "code",
   "execution_count": null,
   "metadata": {},
   "outputs": [],
   "source": [
    "# Realizar undersampling de la clase mayoritaria\n",
    "fraud_majority_downsampled = resample(fraud_majority,\n",
    "                                    replace=False,\n",
    "                                    n_samples=len(fraud_minority),\n",
    "                                    random_state=42)\n",
    "\n",
    "# Combinar las clases balanceadas\n",
    "fraud_downsampled = pd.concat([fraud_majority_downsampled, fraud_minority])\n",
    "\n",
    "# Preparar datos balanceados\n",
    "X_downsampled = fraud_downsampled.drop('fraud', axis=1)\n",
    "y_downsampled = fraud_downsampled.fraud\n",
    "\n",
    "# División de datos\n",
    "X_train_down, X_test_down, y_train_down, y_test_down = train_test_split(X_downsampled, y_downsampled, \n",
    "                                                                        test_size=0.2, \n",
    "                                                                        random_state=42)\n",
    "\n",
    "# Entrenamiento y evaluación\n",
    "model_down = LogisticRegression(random_state=42)\n",
    "model_down.fit(X_train_down, y_train_down)\n",
    "y_pred_down = model_down.predict(X_test)\n",
    "\n",
    "print(\"Resultados con Undersampling:\")\n",
    "print(\"\\nReporte de clasificación:\")\n",
    "print(classification_report(y_test, y_pred_down))"
   ]
  },
  {
   "cell_type": "markdown",
   "metadata": {},
   "source": [
    "6. Finally, run SMOTE in order to balance our target variable and repeat the steps above (1-3), now with balanced data. Does it improve the performance of our model?"
   ]
  },
  {
   "cell_type": "code",
   "execution_count": null,
   "metadata": {},
   "outputs": [],
   "source": [
    "# Realizar un balance combinado (over y under sampling)\n",
    "# Primero hacemos un oversampling parcial de la minoría\n",
    "fraud_minority_partial = resample(fraud_minority,\n",
    "                                replace=True,\n",
    "                                n_samples=len(fraud_majority)//2,\n",
    "                                random_state=42)\n",
    "\n",
    "# Luego hacemos un undersampling parcial de la mayoría\n",
    "fraud_majority_partial = resample(fraud_majority,\n",
    "                                replace=False,\n",
    "                                n_samples=len(fraud_majority)//2,\n",
    "                                random_state=42)\n",
    "\n",
    "# Combinar las clases balanceadas\n",
    "fraud_balanced = pd.concat([fraud_majority_partial, fraud_minority_partial])\n",
    "\n",
    "# Preparar datos balanceados\n",
    "X_balanced = fraud_balanced.drop('fraud', axis=1)\n",
    "y_balanced = fraud_balanced.fraud\n",
    "\n",
    "# División de datos\n",
    "X_train_bal, X_test_bal, y_train_bal, y_test_bal = train_test_split(X_balanced, y_balanced, \n",
    "                                                                    test_size=0.2, \n",
    "                                                                    random_state=42)\n",
    "\n",
    "# Entrenamiento y evaluación\n",
    "model_bal = LogisticRegression(random_state=42)\n",
    "model_bal.fit(X_train_bal, y_train_bal)\n",
    "y_pred_bal = model_bal.predict(X_test)\n",
    "\n",
    "print(\"Resultados con Balance Combinado:\")\n",
    "print(\"\\nReporte de clasificación:\")\n",
    "print(classification_report(y_test, y_pred_bal))\n",
    "\n",
    "# Comparación visual de los resultados\n",
    "modelos = ['Base', 'Oversampling', 'Undersampling', 'Combinado']\n",
    "f1_scores = [\n",
    "    f1_score(y_test, y_pred),\n",
    "    f1_score(y_test, y_pred_up),\n",
    "    f1_score(y_test, y_pred_down),\n",
    "    f1_score(y_test, y_pred_bal)\n",
    "]\n",
    "\n",
    "plt.figure(figsize=(10, 6))\n",
    "plt.bar(modelos, f1_scores)\n",
    "plt.title('Comparación de F1-Scores entre modelos')\n",
    "plt.ylabel('F1-Score')\n",
    "plt.ylim(0, 1)\n",
    "plt.show()"
   ]
  }
 ],
 "metadata": {
  "kernelspec": {
   "display_name": "proyecto_final",
   "language": "python",
   "name": "python3"
  },
  "language_info": {
   "codemirror_mode": {
    "name": "ipython",
    "version": 3
   },
   "file_extension": ".py",
   "mimetype": "text/x-python",
   "name": "python",
   "nbconvert_exporter": "python",
   "pygments_lexer": "ipython3",
   "version": "3.12.3"
  }
 },
 "nbformat": 4,
 "nbformat_minor": 2
}
